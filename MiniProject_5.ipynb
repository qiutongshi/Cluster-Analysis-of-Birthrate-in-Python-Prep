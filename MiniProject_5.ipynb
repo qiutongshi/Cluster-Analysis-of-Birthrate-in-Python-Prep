{
  "nbformat": 4,
  "nbformat_minor": 0,
  "metadata": {
    "colab": {
      "name": "MiniProject#5.ipynb",
      "provenance": [],
      "collapsed_sections": [
        "4p9b3R0j31Wu"
      ],
      "toc_visible": true,
      "authorship_tag": "ABX9TyOhBzZ48fvOwCxVJy/5XsZX",
      "include_colab_link": true
    },
    "kernelspec": {
      "name": "python3",
      "display_name": "Python 3"
    }
  },
  "cells": [
    {
      "cell_type": "markdown",
      "metadata": {
        "id": "view-in-github",
        "colab_type": "text"
      },
      "source": [
        "<a href=\"https://colab.research.google.com/github/qiutongshi/clusteranalysis_birthrate_python/blob/main/MiniProject_5.ipynb\" target=\"_parent\"><img src=\"https://colab.research.google.com/assets/colab-badge.svg\" alt=\"Open In Colab\"/></a>"
      ]
    },
    {
      "cell_type": "markdown",
      "metadata": {
        "id": "4p9b3R0j31Wu"
      },
      "source": [
        "# Libraries & Data Prep"
      ]
    },
    {
      "cell_type": "markdown",
      "metadata": {
        "id": "XzsuqcfkR5Z1"
      },
      "source": [
        "Clean data sets to prepare for cluster analysis and final project "
      ]
    },
    {
      "cell_type": "code",
      "metadata": {
        "id": "Yag6CVnaEKlT"
      },
      "source": [
        "import pandas as pd\n",
        "import statistics as sta\n",
        "import numpy as np\n",
        "import matplotlib.pyplot as plt\n",
        "from scipy.stats import norm\n",
        "from scipy.stats import skew\n",
        "from functools import reduce\n",
        "import sklearn\n",
        "\n",
        "from google.colab import files\n",
        "\n",
        "df_brth = pd.read_csv('https://raw.githubusercontent.com/qiutongshi/study-of-teen-birth-at-Bal/main/Teen_Birth_Rate_per_1%252C000_Females__aged_15-19_.csv')\n",
        "df_his = pd.read_csv('https://raw.githubusercontent.com/qiutongshi/study-of-teen-birth-at-Bal/main/Percent_of_Residents_-_Hispanic.csv')\n",
        "df_pov = pd.read_csv('https://raw.githubusercontent.com/qiutongshi/study-of-teen-birth-at-Bal/main/Percent_of_Family_Households_Living_Below_the_Poverty_Line.csv')\n",
        "df_other = pd.read_csv('https://raw.githubusercontent.com/qiutongshi/study-of-teen-birth-at-Bal/main/Percent_of_Residents_other.csv')"
      ],
      "execution_count": null,
      "outputs": []
    },
    {
      "cell_type": "code",
      "metadata": {
        "id": "zIdwTxqxe-ri"
      },
      "source": [
        "# clean irrelevant data\n",
        "\n",
        "del df_brth[\"SHAPE_Length\"]\n",
        "del df_brth[\"SHAPE_Area\"]\n",
        "del df_brth[\"OBJECTID\"]\n",
        "del df_brth[\"teenbir10\"]\n",
        "del df_brth[\"teenbir11\"]\n",
        "del df_brth[\"teenbir12\"]\n",
        "del df_brth[\"teenbir13\"]\n",
        "del df_brth[\"teenbir14\"]\n",
        "del df_brth[\"teenbir18\"]\n",
        "\n",
        "del df_pov[\"SHAPE_Length\"]\n",
        "del df_pov[\"SHAPE_Area\"]\n",
        "del df_pov[\"FID\"]\n",
        "del df_pov[\"hhpov18\"]\n",
        "\n",
        "\n",
        "del df_his[\"FID\"]\n",
        "del df_his[\"phisp10\"]\n",
        "del df_his[\"phisp18\"]\n",
        "del df_his[\"SHAPE_Length\"]\n",
        "del df_his[\"SHAPE_Area\"]\n",
        "\n",
        "del df_other[\"OBJECTID\"]\n",
        "del df_other[\"ppac10\"]\n",
        "del df_other[\"ppac18\"]\n",
        "del df_other[\"SHAPE_Length\"]\n",
        "del df_other[\"SHAPE_Area\"]"
      ],
      "execution_count": null,
      "outputs": []
    },
    {
      "cell_type": "code",
      "metadata": {
        "id": "s3DQizeaNtQh",
        "colab": {
          "base_uri": "https://localhost:8080/",
          "height": 34
        },
        "outputId": "bdf724db-804b-47d8-a38b-d71a9c05b27b"
      },
      "source": [
        "#new file merged\n",
        "\n",
        "data_frames =[df_brth,df_pov,df_his,df_other,]\n",
        "df_merge = reduce(lambda left,right: pd.merge(left,right,on=[\"CSA2010\"], how=\"left\"), data_frames).fillna('void')\n",
        "\n",
        "\n",
        "df_merge.to_csv(\"merged_data.csv\", index = False)\n",
        "files.download(\"merged_data.csv\")"
      ],
      "execution_count": null,
      "outputs": [
        {
          "output_type": "display_data",
          "data": {
            "application/javascript": [
              "\n",
              "    async function download(id, filename, size) {\n",
              "      if (!google.colab.kernel.accessAllowed) {\n",
              "        return;\n",
              "      }\n",
              "      const div = document.createElement('div');\n",
              "      const label = document.createElement('label');\n",
              "      label.textContent = `Downloading \"${filename}\": `;\n",
              "      div.appendChild(label);\n",
              "      const progress = document.createElement('progress');\n",
              "      progress.max = size;\n",
              "      div.appendChild(progress);\n",
              "      document.body.appendChild(div);\n",
              "\n",
              "      const buffers = [];\n",
              "      let downloaded = 0;\n",
              "\n",
              "      const channel = await google.colab.kernel.comms.open(id);\n",
              "      // Send a message to notify the kernel that we're ready.\n",
              "      channel.send({})\n",
              "\n",
              "      for await (const message of channel.messages) {\n",
              "        // Send a message to notify the kernel that we're ready.\n",
              "        channel.send({})\n",
              "        if (message.buffers) {\n",
              "          for (const buffer of message.buffers) {\n",
              "            buffers.push(buffer);\n",
              "            downloaded += buffer.byteLength;\n",
              "            progress.value = downloaded;\n",
              "          }\n",
              "        }\n",
              "      }\n",
              "      const blob = new Blob(buffers, {type: 'application/binary'});\n",
              "      const a = document.createElement('a');\n",
              "      a.href = window.URL.createObjectURL(blob);\n",
              "      a.download = filename;\n",
              "      div.appendChild(a);\n",
              "      a.click();\n",
              "      div.remove();\n",
              "    }\n",
              "  "
            ],
            "text/plain": [
              "<IPython.core.display.Javascript object>"
            ]
          },
          "metadata": {
            "tags": []
          }
        },
        {
          "output_type": "display_data",
          "data": {
            "application/javascript": [
              "download(\"download_0dc0cc30-3f28-48ba-aa1e-364c14fe5bcb\", \"merged_data.csv\", 12126)"
            ],
            "text/plain": [
              "<IPython.core.display.Javascript object>"
            ]
          },
          "metadata": {
            "tags": []
          }
        }
      ]
    },
    {
      "cell_type": "code",
      "metadata": {
        "id": "B1GfGGDGtFHJ"
      },
      "source": [
        "#seperating labels and data for cluster analysis\n",
        "df_label = df_merge[\"CSA2010\"]\n",
        "del df_merge[\"CSA2010\"]"
      ],
      "execution_count": null,
      "outputs": []
    },
    {
      "cell_type": "markdown",
      "metadata": {
        "id": "VSgOPx4Vjd3M"
      },
      "source": [
        "# Cluster Analysis"
      ]
    },
    {
      "cell_type": "markdown",
      "metadata": {
        "id": "YtqZZz2Ola1B"
      },
      "source": [
        "Using different cluster analysis in Python and plot the results to see whether cluster analysis is necessary for final project. Data used are from 2015, 2016, 2017."
      ]
    },
    {
      "cell_type": "code",
      "metadata": {
        "id": "UgpYBSYUDYFN"
      },
      "source": [
        "from numpy import unique\n",
        "from numpy import where\n",
        "from sklearn.datasets import make_classification\n",
        "from matplotlib import pyplot\n",
        "\n",
        "#convert data frame into data set\n",
        "# Convert DataFrame to matrix\n",
        "mat = df_merge.values"
      ],
      "execution_count": null,
      "outputs": []
    },
    {
      "cell_type": "code",
      "metadata": {
        "id": "gWNn6EC6jg9w",
        "colab": {
          "base_uri": "https://localhost:8080/",
          "height": 265
        },
        "outputId": "c045b8af-86ad-48fa-8988-12bef1ddcfac"
      },
      "source": [
        "from sklearn.cluster import KMeans\n",
        "\n",
        "# Using sklearn\n",
        "km = sklearn.cluster.KMeans(n_clusters=3)\n",
        "km.fit(mat)\n",
        "# Get cluster assignment labels\n",
        "labels = km.labels_\n",
        "# Format results as a DataFrame\n",
        "results = pd.DataFrame([df_merge.index,labels]).T\n",
        "# assign a cluster to each example\n",
        "yhat = km.predict(mat)\n",
        "# retrieve unique clusters\n",
        "clusters = unique(yhat)\n",
        "# create scatter plot for samples from each cluster\n",
        "for cluster in clusters:\n",
        "\t# get row indexes for samples with this cluster\n",
        "\trow_ix = where(yhat == cluster)\n",
        "\t# create scatter of these samples\n",
        "\tpyplot.scatter(mat[row_ix, 0], mat[row_ix, 1])\n",
        "# show the plot\n",
        "pyplot.show()"
      ],
      "execution_count": null,
      "outputs": [
        {
          "output_type": "display_data",
          "data": {
            "image/png": "[encoded data removed]",
            "text/plain": [
              "<Figure size 432x288 with 1 Axes>"
            ]
          },
          "metadata": {
            "tags": [],
            "needs_background": "light"
          }
        }
      ]
    },
    {
      "cell_type": "code",
      "metadata": {
        "id": "91O_6w52pWcy",
        "colab": {
          "base_uri": "https://localhost:8080/",
          "height": 265
        },
        "outputId": "8ec25727-02f6-44fa-ae0d-de20eafb5f30"
      },
      "source": [
        "# affinity propagation clustering\n",
        "from sklearn.cluster import AffinityPropagation\n",
        "\n",
        "# define the model\n",
        "ap = AffinityPropagation(damping=0.9)\n",
        "# fit the model\n",
        "ap.fit(mat)\n",
        "# assign a cluster to each example\n",
        "yhat = ap.predict(mat)\n",
        "# retrieve unique clusters\n",
        "clusters = unique(yhat)\n",
        "# create scatter plot for samples from each cluster\n",
        "for cluster in clusters:\n",
        "\t# get row indexes for samples with this cluster\n",
        "\trow_ix = where(yhat == cluster)\n",
        "\t# create scatter of these samples\n",
        "\tpyplot.scatter(mat[row_ix, 0], mat[row_ix, 1])\n",
        "# show the plot\n",
        "pyplot.show()"
      ],
      "execution_count": null,
      "outputs": [
        {
          "output_type": "display_data",
          "data": {
            "image/png": "[encoded data removed]",
            "text/plain": [
              "<Figure size 432x288 with 1 Axes>"
            ]
          },
          "metadata": {
            "tags": [],
            "needs_background": "light"
          }
        }
      ]
    },
    {
      "cell_type": "code",
      "metadata": {
        "colab": {
          "base_uri": "https://localhost:8080/",
          "height": 265
        },
        "id": "sxNtM4-iD-Ug",
        "outputId": "499decd9-0478-45a6-c7d7-105a2f2d1f1d"
      },
      "source": [
        "# agglomerative clustering\n",
        "from sklearn.cluster import AgglomerativeClustering\n",
        "\n",
        "# define the model\n",
        "ac = AgglomerativeClustering(n_clusters=3)\n",
        "# fit model and predict clusters\n",
        "yhat = ac.fit_predict(mat)\n",
        "# retrieve unique clusters\n",
        "clusters = unique(yhat)\n",
        "# create scatter plot for samples from each cluster\n",
        "for cluster in clusters:\n",
        "\t# get row indexes for samples with this cluster\n",
        "\trow_ix = where(yhat == cluster)\n",
        "\t# create scatter of these samples\n",
        "\tpyplot.scatter(mat[row_ix, 0], mat[row_ix, 1])\n",
        "# show the plot\n",
        "pyplot.show()"
      ],
      "execution_count": null,
      "outputs": [
        {
          "output_type": "display_data",
          "data": {
            "image/png": "[encoded data removed]",
            "text/plain": [
              "<Figure size 432x288 with 1 Axes>"
            ]
          },
          "metadata": {
            "tags": [],
            "needs_background": "light"
          }
        }
      ]
    },
    {
      "cell_type": "code",
      "metadata": {
        "colab": {
          "base_uri": "https://localhost:8080/",
          "height": 265
        },
        "id": "NTzY9fLLEdJy",
        "outputId": "d103b4ee-79a6-4516-bad1-517fd35fd372"
      },
      "source": [
        "#BIRCH clustering\n",
        "from sklearn.cluster import Birch\n",
        "\n",
        "# define the model\n",
        "birch = Birch(threshold=0.01, n_clusters=3)\n",
        "# fit the model\n",
        "birch.fit(mat)\n",
        "# assign a cluster to each example\n",
        "yhat = birch.predict(mat)\n",
        "# retrieve unique clusters\n",
        "clusters = unique(yhat)\n",
        "# create scatter plot for samples from each cluster\n",
        "for cluster in clusters:\n",
        "\t# get row indexes for samples with this cluster\n",
        "\trow_ix = where(yhat == cluster)\n",
        "\t# create scatter of these samples\n",
        "\tpyplot.scatter(mat[row_ix, 0], mat[row_ix, 1])\n",
        "# show the plot\n",
        "pyplot.show()"
      ],
      "execution_count": null,
      "outputs": [
        {
          "output_type": "display_data",
          "data": {
            "image/png": "[encoded data removed]",
            "text/plain": [
              "<Figure size 432x288 with 1 Axes>"
            ]
          },
          "metadata": {
            "tags": [],
            "needs_background": "light"
          }
        }
      ]
    },
    {
      "cell_type": "code",
      "metadata": {
        "colab": {
          "base_uri": "https://localhost:8080/",
          "height": 265
        },
        "id": "zRrlBN07Et2s",
        "outputId": "39dbeda8-19db-4d2f-f85f-0dd87a1a3396"
      },
      "source": [
        "#DBSCAN clustering\n",
        "from sklearn.cluster import DBSCAN\n",
        "\n",
        "# define the model\n",
        "dbscan = DBSCAN(eps=0.30, min_samples=9)\n",
        "# fit model and predict clusters\n",
        "yhat = dbscan.fit_predict(mat)\n",
        "# retrieve unique clusters\n",
        "clusters = unique(yhat)\n",
        "# create scatter plot for samples from each cluster\n",
        "for cluster in clusters:\n",
        "\t# get row indexes for samples with this cluster\n",
        "\trow_ix = where(yhat == cluster)\n",
        "\t# create scatter of these samples\n",
        "\tpyplot.scatter(mat[row_ix, 0], mat[row_ix, 1])\n",
        "# show the plot\n",
        "pyplot.show()"
      ],
      "execution_count": null,
      "outputs": [
        {
          "output_type": "display_data",
          "data": {
            "image/png": "[encoded data removed]",
            "text/plain": [
              "<Figure size 432x288 with 1 Axes>"
            ]
          },
          "metadata": {
            "tags": [],
            "needs_background": "light"
          }
        }
      ]
    },
    {
      "cell_type": "code",
      "metadata": {
        "colab": {
          "base_uri": "https://localhost:8080/",
          "height": 265
        },
        "id": "148xvW5jE8oK",
        "outputId": "f76a691d-7764-4780-8d8a-ac5de8974c68"
      },
      "source": [
        "#mean shift clustering\n",
        "from sklearn.cluster import MeanShift\n",
        "\n",
        "# define the model\n",
        "ms = MeanShift()\n",
        "# fit model and predict clusters\n",
        "yhat = ms.fit_predict(mat)\n",
        "# retrieve unique clusters\n",
        "clusters = unique(yhat)\n",
        "# create scatter plot for samples from each cluster\n",
        "for cluster in clusters:\n",
        "\t# get row indexes for samples with this cluster\n",
        "\trow_ix = where(yhat == cluster)\n",
        "\t# create scatter of these samples\n",
        "\tpyplot.scatter(mat[row_ix, 0], mat[row_ix, 1])\n",
        "# show the plot\n",
        "pyplot.show()"
      ],
      "execution_count": null,
      "outputs": [
        {
          "output_type": "display_data",
          "data": {
            "image/png": "[encoded data removed]",
            "text/plain": [
              "<Figure size 432x288 with 1 Axes>"
            ]
          },
          "metadata": {
            "tags": [],
            "needs_background": "light"
          }
        }
      ]
    },
    {
      "cell_type": "markdown",
      "metadata": {
        "id": "4h4NQWu5SICU"
      },
      "source": [
        "Conclusion: some clustering method works better than others in Python. 3 clustering seems to be a good number for the cluster groups used later in Excel cluster analysis. Note that some clustering method tests(unrelevant to this project) suggests that more data is needed for better clustering."
      ]
    }
  ]
}